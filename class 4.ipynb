{
 "cells": [
  {
   "cell_type": "code",
   "execution_count": 1,
   "id": "613ae116",
   "metadata": {},
   "outputs": [],
   "source": [
    "####################CLASS 4 ################## \n",
    "\"\"\" DATA TYPE SET\n",
    "{} flower bracket no duplicatr\n",
    "index, rindex and find , rfind dosent work in set \n",
    "if u print a set the type will change into list \"\"\""
   ]
  },
  {
   "cell_type": "code",
   "execution_count": 10,
   "id": "e133462f",
   "metadata": {},
   "outputs": [
    {
     "name": "stdout",
     "output_type": "stream",
     "text": [
      "<class 'set'>\n"
     ]
    }
   ],
   "source": [
    "a={1,2,1,1,1,2,2,2,2,3,3,3,3,4}\n",
    "print(type(a))"
   ]
  },
  {
   "cell_type": "code",
   "execution_count": 21,
   "id": "c666ed00",
   "metadata": {},
   "outputs": [
    {
     "name": "stdout",
     "output_type": "stream",
     "text": [
      "True\n"
     ]
    }
   ],
   "source": [
    "print(isinstance(a,set))"
   ]
  },
  {
   "cell_type": "code",
   "execution_count": 12,
   "id": "4e0985e9",
   "metadata": {},
   "outputs": [
    {
     "name": "stdout",
     "output_type": "stream",
     "text": [
      "{1, 2, 3, 4}\n"
     ]
    }
   ],
   "source": [
    "print(a)"
   ]
  },
  {
   "cell_type": "code",
   "execution_count": 13,
   "id": "9f3d5e99",
   "metadata": {},
   "outputs": [
    {
     "name": "stdout",
     "output_type": "stream",
     "text": [
      "[1, 2, 3, 4]\n",
      "<class 'set'>\n"
     ]
    }
   ],
   "source": [
    "print(sorted(a))\n",
    "print(type(a))"
   ]
  },
  {
   "cell_type": "code",
   "execution_count": 14,
   "id": "3f2e710f",
   "metadata": {},
   "outputs": [],
   "source": [
    "a={1,2,3,4,5}\n",
    "b={4,5,6,7,8}\n"
   ]
  },
  {
   "cell_type": "code",
   "execution_count": 15,
   "id": "8a1b8aed",
   "metadata": {},
   "outputs": [
    {
     "name": "stdout",
     "output_type": "stream",
     "text": [
      "{1, 2, 3, 4, 5, 6, 7, 8}\n",
      "{4, 5}\n"
     ]
    }
   ],
   "source": [
    "print(a.union(b))\n",
    "print(a.intersection(b))"
   ]
  },
  {
   "cell_type": "code",
   "execution_count": 16,
   "id": "408a45ae",
   "metadata": {},
   "outputs": [
    {
     "name": "stdout",
     "output_type": "stream",
     "text": [
      "{1, 2, 3}\n",
      "{8, 6, 7}\n"
     ]
    }
   ],
   "source": [
    "print(a.difference(b))\n",
    "print(b.difference(a))"
   ]
  },
  {
   "cell_type": "code",
   "execution_count": 17,
   "id": "3e352ddd",
   "metadata": {},
   "outputs": [
    {
     "name": "stdout",
     "output_type": "stream",
     "text": [
      "True\n",
      "False\n"
     ]
    }
   ],
   "source": [
    "a={1,2,3}                # fruite superset apple subset\n",
    "b={1,2,3,4,5,6}\n",
    "print(a.issubset(b))\n",
    "print(b.issubset(a))"
   ]
  },
  {
   "cell_type": "code",
   "execution_count": 18,
   "id": "ecd8a42c",
   "metadata": {},
   "outputs": [
    {
     "name": "stdout",
     "output_type": "stream",
     "text": [
      "False\n",
      "True\n"
     ]
    }
   ],
   "source": [
    "print(a.issuperset(b))\n",
    "print(b.issuperset(a))"
   ]
  },
  {
   "cell_type": "code",
   "execution_count": 35,
   "id": "a5356786",
   "metadata": {},
   "outputs": [
    {
     "name": "stdout",
     "output_type": "stream",
     "text": [
      "<class 'dict'>\n",
      "{'name': 'arun', 'age': 25, 'loc': 'chennai'}\n"
     ]
    }
   ],
   "source": [
    "a={\"name\":\"arun\",\"age\":25,\"loc\":\"chennai\"}\n",
    "print(type(a))\n",
    "print(a)"
   ]
  },
  {
   "cell_type": "code",
   "execution_count": 36,
   "id": "e390d88a",
   "metadata": {},
   "outputs": [
    {
     "name": "stdout",
     "output_type": "stream",
     "text": [
      "True\n"
     ]
    }
   ],
   "source": [
    "print(isinstance(a,dict))"
   ]
  },
  {
   "cell_type": "code",
   "execution_count": 37,
   "id": "47beaaaa",
   "metadata": {},
   "outputs": [
    {
     "name": "stdout",
     "output_type": "stream",
     "text": [
      "age\n",
      "name\n",
      "['age', 'loc', 'name']\n"
     ]
    }
   ],
   "source": [
    "print(min(a)) #checks only the key not the value\n",
    "print(max(a))\n",
    "print(sorted(a))"
   ]
  },
  {
   "cell_type": "code",
   "execution_count": 38,
   "id": "83435c69",
   "metadata": {},
   "outputs": [
    {
     "name": "stdout",
     "output_type": "stream",
     "text": [
      "dict_keys(['name', 'age', 'loc'])\n",
      "dict_values(['arun', 25, 'chennai'])\n",
      "dict_items([('name', 'arun'), ('age', 25), ('loc', 'chennai')])\n"
     ]
    }
   ],
   "source": [
    "print(a.keys()) #output list\n",
    "print(a.values()) #output list\n",
    "print(a.items()) # output tuple inside a list"
   ]
  },
  {
   "cell_type": "code",
   "execution_count": 39,
   "id": "cce3febd",
   "metadata": {},
   "outputs": [],
   "source": [
    "# add value in dictionary \n",
    "a[\"test\"]=\"demo\""
   ]
  },
  {
   "cell_type": "code",
   "execution_count": 40,
   "id": "6ed51e36",
   "metadata": {},
   "outputs": [
    {
     "name": "stdout",
     "output_type": "stream",
     "text": [
      "{'name': 'arun', 'age': 25, 'loc': 'chennai', 'test': 'demo'}\n"
     ]
    }
   ],
   "source": [
    "print(a)"
   ]
  },
  {
   "cell_type": "code",
   "execution_count": 41,
   "id": "54a5ffda",
   "metadata": {},
   "outputs": [
    {
     "name": "stdout",
     "output_type": "stream",
     "text": [
      "{'name': 'end', 'age': 25, 'loc': 'chennai', 'test': 'demo'}\n"
     ]
    }
   ],
   "source": [
    "a={'name': 'arun', 'age': 25, 'loc': 'chennai', 'test': 'demo',\"name\":\"end\"}\n",
    "print(a)"
   ]
  },
  {
   "cell_type": "code",
   "execution_count": 42,
   "id": "3de0a69a",
   "metadata": {},
   "outputs": [
    {
     "name": "stdout",
     "output_type": "stream",
     "text": [
      "{'name': 'end', 'age': 25, 'loc': 'chennai'}\n"
     ]
    }
   ],
   "source": [
    "del a[\"test\"] #delete both key and value\n",
    "print(a)"
   ]
  },
  {
   "cell_type": "code",
   "execution_count": 43,
   "id": "0c463247",
   "metadata": {},
   "outputs": [
    {
     "name": "stdout",
     "output_type": "stream",
     "text": [
      "25\n",
      "25\n"
     ]
    }
   ],
   "source": [
    "#to get a value from dictionary\n",
    "print(a[\"age\"])\n",
    "print(a.get(\"age\"))"
   ]
  },
  {
   "cell_type": "code",
   "execution_count": 44,
   "id": "e824f2c9",
   "metadata": {},
   "outputs": [
    {
     "ename": "KeyError",
     "evalue": "'try'",
     "output_type": "error",
     "traceback": [
      "\u001b[1;31m---------------------------------------------------------------------------\u001b[0m",
      "\u001b[1;31mKeyError\u001b[0m                                  Traceback (most recent call last)",
      "Cell \u001b[1;32mIn[44], line 1\u001b[0m\n\u001b[1;32m----> 1\u001b[0m \u001b[38;5;28mprint\u001b[39m(\u001b[43ma\u001b[49m\u001b[43m[\u001b[49m\u001b[38;5;124;43m\"\u001b[39;49m\u001b[38;5;124;43mtry\u001b[39;49m\u001b[38;5;124;43m\"\u001b[39;49m\u001b[43m]\u001b[49m)\n",
      "\u001b[1;31mKeyError\u001b[0m: 'try'"
     ]
    }
   ],
   "source": [
    "print(a[\"try\"]) #this method throws error"
   ]
  },
  {
   "cell_type": "code",
   "execution_count": 45,
   "id": "3a69699b",
   "metadata": {},
   "outputs": [
    {
     "name": "stdout",
     "output_type": "stream",
     "text": [
      "None\n"
     ]
    }
   ],
   "source": [
    "print(a.get(\"try\"))"
   ]
  },
  {
   "cell_type": "code",
   "execution_count": 46,
   "id": "7a21e238",
   "metadata": {},
   "outputs": [
    {
     "name": "stdout",
     "output_type": "stream",
     "text": [
      "nothing\n"
     ]
    }
   ],
   "source": [
    "print(a.get(\"try\",\"nothing\")) # the value which we give after (,) will come instead of nothing"
   ]
  },
  {
   "cell_type": "code",
   "execution_count": 47,
   "id": "a71164d3",
   "metadata": {},
   "outputs": [
    {
     "name": "stdout",
     "output_type": "stream",
     "text": [
      "('loc', 'chennai')\n",
      "{'name': 'end', 'age': 25}\n"
     ]
    }
   ],
   "source": [
    "b=a.popitem() #removes last value from the dictonary \n",
    "print(b)\n",
    "print(a)"
   ]
  },
  {
   "cell_type": "code",
   "execution_count": null,
   "id": "c0f4ea55",
   "metadata": {},
   "outputs": [],
   "source": [
    "a="
   ]
  }
 ],
 "metadata": {
  "kernelspec": {
   "display_name": "Python 3 (ipykernel)",
   "language": "python",
   "name": "python3"
  },
  "language_info": {
   "codemirror_mode": {
    "name": "ipython",
    "version": 3
   },
   "file_extension": ".py",
   "mimetype": "text/x-python",
   "name": "python",
   "nbconvert_exporter": "python",
   "pygments_lexer": "ipython3",
   "version": "3.10.9"
  }
 },
 "nbformat": 4,
 "nbformat_minor": 5
}
