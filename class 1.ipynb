{
 "cells": [
  {
   "cell_type": "code",
   "execution_count": null,
   "id": "a04ce233",
   "metadata": {},
   "outputs": [],
   "source": []
  },
  {
   "cell_type": "code",
   "execution_count": 2,
   "id": "612282e7",
   "metadata": {},
   "outputs": [
    {
     "name": "stdout",
     "output_type": "stream",
     "text": [
      "hi\n"
     ]
    }
   ],
   "source": [
    "print(\"hi\")"
   ]
  },
  {
   "cell_type": "code",
   "execution_count": 2,
   "id": "2a4635be",
   "metadata": {},
   "outputs": [
    {
     "name": "stdout",
     "output_type": "stream",
     "text": [
      "hi\n"
     ]
    }
   ],
   "source": [
    "print(\"hi\")"
   ]
  },
  {
   "cell_type": "code",
   "execution_count": 3,
   "id": "4ebb797b",
   "metadata": {},
   "outputs": [
    {
     "name": "stdout",
     "output_type": "stream",
     "text": [
      "hi\n",
      "welcome\n"
     ]
    }
   ],
   "source": [
    "print(\"hi\")\n",
    "#print(\"hello\")\n",
    "print(\"welcome\")"
   ]
  },
  {
   "cell_type": "code",
   "execution_count": 6,
   "id": "5407ba15",
   "metadata": {},
   "outputs": [],
   "source": [
    "## two types of comments\n",
    "##single line comment, starts with #     \n",
    "## select Ctrl+/ --> to auto comment and uncomment"
   ]
  },
  {
   "cell_type": "code",
   "execution_count": 7,
   "id": "971505a2",
   "metadata": {},
   "outputs": [
    {
     "data": {
      "text/plain": [
       "' multiline comment starts with (3\") \\nends with (3\") \\nused for description about the code\\n'"
      ]
     },
     "execution_count": 7,
     "metadata": {},
     "output_type": "execute_result"
    }
   ],
   "source": [
    "\"\"\" multiline comment starts with (3\") \n",
    "ends with (3\") \n",
    "used for description about the code\n",
    "\"\"\""
   ]
  },
  {
   "cell_type": "code",
   "execution_count": 8,
   "id": "27cbd73f",
   "metadata": {},
   "outputs": [],
   "source": [
    "#to get input from the user"
   ]
  },
  {
   "cell_type": "code",
   "execution_count": 6,
   "id": "2063b4e6",
   "metadata": {},
   "outputs": [
    {
     "name": "stdout",
     "output_type": "stream",
     "text": [
      "enter a name:sam\n",
      "sam\n"
     ]
    }
   ],
   "source": [
    "a=input(\"enter a name:\") #(getfunctiom)\n",
    "print(a)"
   ]
  },
  {
   "cell_type": "code",
   "execution_count": 11,
   "id": "63d6e723",
   "metadata": {},
   "outputs": [],
   "source": [
    "a=\"samraj\" # a is varibale samraj is value"
   ]
  },
  {
   "cell_type": "code",
   "execution_count": 12,
   "id": "28e29474",
   "metadata": {},
   "outputs": [
    {
     "name": "stdout",
     "output_type": "stream",
     "text": [
      "samraj\n"
     ]
    }
   ],
   "source": [
    "print(a)"
   ]
  },
  {
   "cell_type": "code",
   "execution_count": 9,
   "id": "26f6ec7c",
   "metadata": {},
   "outputs": [],
   "source": [
    "#variable name should not start with number but can end with number \n",
    "#varibale name should not contain special character except (_)\n",
    "#variable should be assigned with the values\n",
    "#space is a charcter "
   ]
  },
  {
   "cell_type": "code",
   "execution_count": 1,
   "id": "8e9910d3",
   "metadata": {},
   "outputs": [
    {
     "name": "stdout",
     "output_type": "stream",
     "text": [
      "enter a namesam\n",
      "sam\n"
     ]
    }
   ],
   "source": [
    "a=input(\"enter a name\")\n",
    "print(a)"
   ]
  },
  {
   "cell_type": "code",
   "execution_count": 8,
   "id": "42dc7a93",
   "metadata": {},
   "outputs": [],
   "source": [
    "#data types (type of data support in python is called data type)\n",
    "##string \n",
    "##anything that comes in double quotes string \n",
    "#print(type(a)) and print(isinstance(a,str)) used to check whether string or not\n",
    "a=\"test\""
   ]
  },
  {
   "cell_type": "code",
   "execution_count": 5,
   "id": "fa3fa81f",
   "metadata": {},
   "outputs": [
    {
     "name": "stdout",
     "output_type": "stream",
     "text": [
      "<class 'str'>\n"
     ]
    }
   ],
   "source": [
    "print(type(a))"
   ]
  },
  {
   "cell_type": "code",
   "execution_count": 7,
   "id": "98d37082",
   "metadata": {},
   "outputs": [
    {
     "name": "stdout",
     "output_type": "stream",
     "text": [
      "True\n"
     ]
    }
   ],
   "source": [
    "print(isinstance(a,str))"
   ]
  },
  {
   "cell_type": "code",
   "execution_count": 8,
   "id": "625f648a",
   "metadata": {},
   "outputs": [],
   "source": [
    "a = \"SamRaj\""
   ]
  },
  {
   "cell_type": "code",
   "execution_count": 9,
   "id": "3837b342",
   "metadata": {},
   "outputs": [
    {
     "name": "stdout",
     "output_type": "stream",
     "text": [
      "6\n",
      "m\n",
      "R\n",
      "['R', 'S', 'a', 'a', 'j', 'm']\n"
     ]
    }
   ],
   "source": [
    "print(len(a))# to get length of variable\n",
    "print(max(a))#maximum ascii value\n",
    "print(min(a))#minimum ascii value\n",
    "print(sorted(a))#sorting the variable in the ascii value"
   ]
  },
  {
   "cell_type": "code",
   "execution_count": 5,
   "id": "8c1ba173",
   "metadata": {},
   "outputs": [
    {
     "name": "stdout",
     "output_type": "stream",
     "text": [
      "False\n",
      "False\n",
      "False\n",
      "False\n",
      "False\n",
      "sAM rAJ\n"
     ]
    }
   ],
   "source": [
    "print(a.isalpha())\n",
    "print(a.isalnum())\n",
    "print(a.isdigit())\n",
    "print(a.isupper())\n",
    "print(a.islower())\n",
    "print(a.swapcase())"
   ]
  },
  {
   "cell_type": "code",
   "execution_count": 5,
   "id": "a0ec46bd",
   "metadata": {},
   "outputs": [],
   "source": [
    "a= \"RogerFedrer\"  #python interval (forward index) right to left 0 ,,,,,,, left to right -1(reverse index)"
   ]
  },
  {
   "cell_type": "code",
   "execution_count": 6,
   "id": "5351d1be",
   "metadata": {},
   "outputs": [
    {
     "name": "stdout",
     "output_type": "stream",
     "text": [
      "F\n"
     ]
    }
   ],
   "source": [
    "print(a[5])"
   ]
  },
  {
   "cell_type": "code",
   "execution_count": 8,
   "id": "3416e2cb",
   "metadata": {},
   "outputs": [
    {
     "name": "stdout",
     "output_type": "stream",
     "text": [
      "Roger\n"
     ]
    }
   ],
   "source": [
    "print(a[:5])"
   ]
  },
  {
   "cell_type": "code",
   "execution_count": 10,
   "id": "d3515cca",
   "metadata": {},
   "outputs": [
    {
     "name": "stdout",
     "output_type": "stream",
     "text": [
      "RogerFedrer\n"
     ]
    }
   ],
   "source": [
    "print(a[:])"
   ]
  },
  {
   "cell_type": "code",
   "execution_count": 11,
   "id": "b9178209",
   "metadata": {},
   "outputs": [
    {
     "name": "stdout",
     "output_type": "stream",
     "text": [
      "Rgrerr\n"
     ]
    }
   ],
   "source": [
    "print(a[::2])"
   ]
  },
  {
   "cell_type": "code",
   "execution_count": 12,
   "id": "8a8b9a03",
   "metadata": {},
   "outputs": [],
   "source": [
    "#reverse index a string"
   ]
  },
  {
   "cell_type": "code",
   "execution_count": 13,
   "id": "e1b044fe",
   "metadata": {},
   "outputs": [
    {
     "name": "stdout",
     "output_type": "stream",
     "text": [
      "RogerFedre\n"
     ]
    }
   ],
   "source": [
    "print(a[:-1])"
   ]
  },
  {
   "cell_type": "code",
   "execution_count": 14,
   "id": "aa38e60f",
   "metadata": {},
   "outputs": [
    {
     "name": "stdout",
     "output_type": "stream",
     "text": [
      "rrergR\n"
     ]
    }
   ],
   "source": [
    "print(a[::-2])"
   ]
  },
  {
   "cell_type": "code",
   "execution_count": 16,
   "id": "ee4431ba",
   "metadata": {},
   "outputs": [],
   "source": [
    "##get last letter in a name without using reverse index\n",
    "##using input get a name and check its alphabatics \n",
    "##using input get a number and check it is a number or not\n",
    "##using input get a password check it is alphanumeric and in lower case or not"
   ]
  },
  {
   "cell_type": "code",
   "execution_count": 49,
   "id": "1240a404",
   "metadata": {},
   "outputs": [],
   "source": [
    "a=\"willamson\""
   ]
  },
  {
   "cell_type": "code",
   "execution_count": 50,
   "id": "ba3a6ed8",
   "metadata": {},
   "outputs": [
    {
     "name": "stdout",
     "output_type": "stream",
     "text": [
      "n\n"
     ]
    }
   ],
   "source": [
    "print(a[8])#(index uses square bracket)"
   ]
  },
  {
   "cell_type": "code",
   "execution_count": 2,
   "id": "00391c56",
   "metadata": {},
   "outputs": [
    {
     "name": "stdout",
     "output_type": "stream",
     "text": [
      "enter a name:sam\n",
      "True\n"
     ]
    }
   ],
   "source": [
    "a= input(\"enter a name:\")\n",
    "print(a.isalpha())"
   ]
  },
  {
   "cell_type": "code",
   "execution_count": 1,
   "id": "03159e9d",
   "metadata": {},
   "outputs": [
    {
     "name": "stdout",
     "output_type": "stream",
     "text": [
      "enter a number:123\n",
      "True\n"
     ]
    }
   ],
   "source": [
    "a= input(\"enter a number:\")\n",
    "print(a.isdigit())"
   ]
  },
  {
   "cell_type": "code",
   "execution_count": 1,
   "id": "e66dd036",
   "metadata": {},
   "outputs": [
    {
     "name": "stdout",
     "output_type": "stream",
     "text": [
      "enter the password:sam123\n",
      "True\n",
      "True\n"
     ]
    }
   ],
   "source": [
    "a= input(\"enter the password:\")\n",
    "print(a.isalnum())\n",
    "print(a.islower())"
   ]
  },
  {
   "cell_type": "code",
   "execution_count": 3,
   "id": "37830f16",
   "metadata": {},
   "outputs": [],
   "source": [
    "\n",
    "#######################################################\n",
    "##########day 2#################################\n",
    "\n",
    "\n",
    "a=\"SachinTendulkar\""
   ]
  },
  {
   "cell_type": "code",
   "execution_count": 4,
   "id": "01ad507f",
   "metadata": {},
   "outputs": [
    {
     "name": "stdout",
     "output_type": "stream",
     "text": [
      "e\n"
     ]
    }
   ],
   "source": [
    "print(a[7])"
   ]
  },
  {
   "cell_type": "code",
   "execution_count": 5,
   "id": "49d53708",
   "metadata": {},
   "outputs": [
    {
     "name": "stdout",
     "output_type": "stream",
     "text": [
      "7\n"
     ]
    }
   ],
   "source": [
    "print(a.index(\"e\")) #index use to find the postition of the letter using forward index 0->1 "
   ]
  },
  {
   "cell_type": "code",
   "execution_count": 6,
   "id": "78d7de48",
   "metadata": {},
   "outputs": [
    {
     "name": "stdout",
     "output_type": "stream",
     "text": [
      "13\n"
     ]
    }
   ],
   "source": [
    "print(a.index(\"a\",2)) "
   ]
  },
  {
   "cell_type": "code",
   "execution_count": 7,
   "id": "bf359ec6",
   "metadata": {},
   "outputs": [
    {
     "name": "stdout",
     "output_type": "stream",
     "text": [
      "13\n"
     ]
    }
   ],
   "source": [
    "print(a.rindex(\"a\"))#reverse index finds the position of a in the value using reverse index and gives forward index value"
   ]
  },
  {
   "cell_type": "code",
   "execution_count": 12,
   "id": "f218363c",
   "metadata": {},
   "outputs": [
    {
     "name": "stdout",
     "output_type": "stream",
     "text": [
      "-1\n"
     ]
    }
   ],
   "source": [
    "print(a.find(\"z\",2))#find uses forward index to find the position of a in the string"
   ]
  },
  {
   "cell_type": "code",
   "execution_count": 11,
   "id": "02f82a9d",
   "metadata": {},
   "outputs": [
    {
     "name": "stdout",
     "output_type": "stream",
     "text": [
      "-1\n"
     ]
    }
   ],
   "source": [
    "print(a.rfind(\"z\"))#rfind and find shows output -1 if the value we entered is nt in the string\n",
    "                   #(in index unknow value is present in index throws error)"
   ]
  },
  {
   "cell_type": "code",
   "execution_count": 18,
   "id": "499e0cd7",
   "metadata": {},
   "outputs": [
    {
     "name": "stdout",
     "output_type": "stream",
     "text": [
      "['S', 'chintendulk', 'r']\n",
      "['S', 'chintendulkar']\n"
     ]
    }
   ],
   "source": [
    "a=\"Sachintendulkar\"\n",
    "print(a.split(\"a\"))   #split function use to delete or split the value\n",
    "print(a.split(\"a\",1)) #first occurance"
   ]
  },
  {
   "cell_type": "code",
   "execution_count": 20,
   "id": "ae66ba60",
   "metadata": {},
   "outputs": [
    {
     "name": "stdout",
     "output_type": "stream",
     "text": [
      "S$chintendulk$r\n",
      "S$chintendulkar\n"
     ]
    }
   ],
   "source": [
    "print(a.replace(\"a\",\"$\"))\n",
    "print(a.replace(\"a\",\"$\",1))"
   ]
  },
  {
   "cell_type": "code",
   "execution_count": 21,
   "id": "4399011f",
   "metadata": {},
   "outputs": [
    {
     "name": "stdout",
     "output_type": "stream",
     "text": [
      "2\n"
     ]
    }
   ],
   "source": [
    "print(a.count(\"a\"))"
   ]
  },
  {
   "cell_type": "code",
   "execution_count": 24,
   "id": "1693fdf2",
   "metadata": {},
   "outputs": [
    {
     "name": "stdout",
     "output_type": "stream",
     "text": [
      "True\n"
     ]
    }
   ],
   "source": [
    "print(a.startswith(\"S\"))"
   ]
  },
  {
   "cell_type": "code",
   "execution_count": 25,
   "id": "e4dadbfb",
   "metadata": {},
   "outputs": [
    {
     "name": "stdout",
     "output_type": "stream",
     "text": [
      "True\n"
     ]
    }
   ],
   "source": [
    "print(a.endswith(\"r\"))"
   ]
  },
  {
   "cell_type": "code",
   "execution_count": 38,
   "id": "9399b84b",
   "metadata": {},
   "outputs": [
    {
     "name": "stdout",
     "output_type": "stream",
     "text": [
      "hello world\n",
      "hello world  \n",
      "  hello world\n"
     ]
    }
   ],
   "source": [
    "a=\"  hello world  \"\n",
    "print(a.strip())#removes strip in front and back\n",
    "print(a.lstrip())#remove strip in front leading \n",
    "print(a.rstrip())#remove strip in back trailing at the end"
   ]
  },
  {
   "cell_type": "code",
   "execution_count": 39,
   "id": "ce4382bf",
   "metadata": {},
   "outputs": [
    {
     "name": "stdout",
     "output_type": "stream",
     "text": [
      "<class 'str'>\n",
      "True\n"
     ]
    }
   ],
   "source": [
    "# second type INT\n",
    "\n",
    "\n",
    "\n",
    "a = \"123\"\n",
    "print(type(a))\n",
    "print(a.isdigit())"
   ]
  },
  {
   "cell_type": "code",
   "execution_count": 40,
   "id": "aa1824e7",
   "metadata": {},
   "outputs": [
    {
     "name": "stdout",
     "output_type": "stream",
     "text": [
      "<class 'int'>\n"
     ]
    }
   ],
   "source": [
    "b = 123\n",
    "print(type(b))"
   ]
  },
  {
   "cell_type": "code",
   "execution_count": 42,
   "id": "4b2561cb",
   "metadata": {},
   "outputs": [
    {
     "name": "stdout",
     "output_type": "stream",
     "text": [
      "123\n",
      "<class 'int'>\n"
     ]
    }
   ],
   "source": [
    "a=\"123\"   #typecasting is only done when a number is present in the string present in the string if it is an int it can be changed\n",
    "b=int(a)\n",
    "print(b)\n",
    "print(type(b))"
   ]
  },
  {
   "cell_type": "code",
   "execution_count": 43,
   "id": "82a76a0c",
   "metadata": {},
   "outputs": [
    {
     "name": "stdout",
     "output_type": "stream",
     "text": [
      "123.0\n"
     ]
    }
   ],
   "source": [
    "a=\"123\"\n",
    "b=float(a)#float is nothing but decimal value\n",
    "print(b)"
   ]
  },
  {
   "cell_type": "code",
   "execution_count": 1,
   "id": "0c6381e2",
   "metadata": {},
   "outputs": [],
   "source": [
    "## get a input as number and check its data type\n",
    "\n",
    "## a=\"test@gmail.com\"\n",
    "##output only test\n",
    "##output only gmail\n",
    "\n",
    "## a=\" Welcome to todays class\"\n",
    "##output : \"welcometotodaysclass\""
   ]
  },
  {
   "cell_type": "code",
   "execution_count": 2,
   "id": "d1be555a",
   "metadata": {},
   "outputs": [
    {
     "name": "stdout",
     "output_type": "stream",
     "text": [
      "enter a number:123\n",
      "<class 'str'>\n",
      "123\n"
     ]
    }
   ],
   "source": [
    "a=input(\"enter a number:\")\n",
    "print(type(a))\n",
    "print(a)"
   ]
  },
  {
   "cell_type": "code",
   "execution_count": 54,
   "id": "9314c790",
   "metadata": {},
   "outputs": [
    {
     "name": "stdout",
     "output_type": "stream",
     "text": [
      "test\n"
     ]
    }
   ],
   "source": [
    "a=\"test@gmail.com\"\n",
    "b=(a.replace(\"gmail.com\",\"@\"))\n",
    "print(b.replace(\"@\",\"\"))"
   ]
  },
  {
   "cell_type": "code",
   "execution_count": 35,
   "id": "8c6f242f",
   "metadata": {},
   "outputs": [
    {
     "name": "stdout",
     "output_type": "stream",
     "text": [
      "gmail\n"
     ]
    }
   ],
   "source": [
    "c=(a.replace(\"test@\",\"\"))\n",
    "print(c.replace(\".com\",\"\"))"
   ]
  },
  {
   "cell_type": "code",
   "execution_count": 42,
   "id": "a0685006",
   "metadata": {},
   "outputs": [
    {
     "name": "stdout",
     "output_type": "stream",
     "text": [
      "welcometotodaysclass\n"
     ]
    }
   ],
   "source": [
    "A=\" welcome to todays class \"\n",
    "B=(A.strip())\n",
    "print(B.replace(\" \",\"\"))"
   ]
  },
  {
   "cell_type": "code",
   "execution_count": null,
   "id": "01f0d77d",
   "metadata": {},
   "outputs": [],
   "source": []
  }
 ],
 "metadata": {
  "kernelspec": {
   "display_name": "Python 3 (ipykernel)",
   "language": "python",
   "name": "python3"
  },
  "language_info": {
   "codemirror_mode": {
    "name": "ipython",
    "version": 3
   },
   "file_extension": ".py",
   "mimetype": "text/x-python",
   "name": "python",
   "nbconvert_exporter": "python",
   "pygments_lexer": "ipython3",
   "version": "3.10.9"
  }
 },
 "nbformat": 4,
 "nbformat_minor": 5
}
